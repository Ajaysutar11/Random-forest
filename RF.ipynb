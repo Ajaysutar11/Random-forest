{
 "cells": [
  {
   "cell_type": "code",
   "execution_count": 1,
   "id": "c2cea2e7",
   "metadata": {},
   "outputs": [],
   "source": [
    "import pandas as pd"
   ]
  },
  {
   "cell_type": "code",
   "execution_count": 2,
   "id": "1ecb291c",
   "metadata": {},
   "outputs": [],
   "source": [
    "df = pd.read_csv('../../datasets/Social_Network_Ads.csv')"
   ]
  },
  {
   "cell_type": "code",
   "execution_count": 3,
   "id": "7e866739",
   "metadata": {},
   "outputs": [],
   "source": [
    "X = df[['Age','EstimatedSalary']]\n",
    "y = df['Purchased']"
   ]
  },
  {
   "cell_type": "code",
   "execution_count": 4,
   "id": "ce5255a4",
   "metadata": {},
   "outputs": [],
   "source": [
    "from sklearn.model_selection import train_test_split\n",
    "X_train,X_test,y_train,y_test = train_test_split(X,y,random_state=20, test_size=0.25)"
   ]
  },
  {
   "cell_type": "code",
   "execution_count": 5,
   "id": "795ba41c",
   "metadata": {},
   "outputs": [],
   "source": [
    "from sklearn.ensemble import RandomForestClassifier"
   ]
  },
  {
   "cell_type": "code",
   "execution_count": 6,
   "id": "e4c6ae1c",
   "metadata": {},
   "outputs": [
    {
     "data": {
      "text/plain": [
       "(0.86, 0.9866666666666667)"
      ]
     },
     "execution_count": 6,
     "metadata": {},
     "output_type": "execute_result"
    }
   ],
   "source": [
    "model = RandomForestClassifier(n_estimators=10,random_state=95)\n",
    "model.fit(X_train,y_train)\n",
    "model.score(X_test,y_test),model.score(X_train,y_train)"
   ]
  },
  {
   "cell_type": "code",
   "execution_count": 7,
   "id": "87673713",
   "metadata": {},
   "outputs": [
    {
     "name": "stdout",
     "output_type": "stream",
     "text": [
      "10 2 2 0.93\n",
      "20 2 2 0.91\n",
      "30 2 2 0.92\n",
      "40 2 2 0.92\n",
      "50 2 2 0.92\n",
      "10 2 3 0.93\n",
      "20 2 3 0.91\n",
      "30 2 3 0.92\n",
      "40 2 3 0.92\n",
      "50 2 3 0.92\n",
      "10 2 4 0.93\n",
      "20 2 4 0.91\n",
      "30 2 4 0.92\n",
      "40 2 4 0.92\n",
      "50 2 4 0.92\n",
      "10 2 5 0.93\n",
      "20 2 5 0.91\n",
      "30 2 5 0.92\n",
      "40 2 5 0.92\n",
      "50 2 5 0.92\n",
      "10 3 2 0.91\n",
      "20 3 2 0.89\n",
      "30 3 2 0.9\n",
      "40 3 2 0.9\n",
      "50 3 2 0.9\n",
      "10 3 3 0.91\n",
      "20 3 3 0.89\n",
      "30 3 3 0.91\n",
      "40 3 3 0.91\n",
      "50 3 3 0.91\n",
      "10 3 4 0.9\n",
      "20 3 4 0.89\n",
      "30 3 4 0.91\n",
      "40 3 4 0.91\n",
      "50 3 4 0.91\n",
      "10 3 5 0.9\n",
      "20 3 5 0.9\n",
      "30 3 5 0.89\n",
      "40 3 5 0.91\n",
      "50 3 5 0.91\n",
      "10 4 2 0.92\n",
      "20 4 2 0.92\n",
      "30 4 2 0.91\n",
      "40 4 2 0.91\n",
      "50 4 2 0.92\n",
      "10 4 3 0.92\n",
      "20 4 3 0.92\n",
      "30 4 3 0.91\n",
      "40 4 3 0.91\n",
      "50 4 3 0.91\n",
      "10 4 4 0.92\n",
      "20 4 4 0.91\n",
      "30 4 4 0.91\n",
      "40 4 4 0.91\n",
      "50 4 4 0.91\n",
      "10 4 5 0.91\n",
      "20 4 5 0.92\n",
      "30 4 5 0.9\n",
      "40 4 5 0.91\n",
      "50 4 5 0.92\n"
     ]
    }
   ],
   "source": [
    "for depth in [2,3,4]:\n",
    "    for samples in [2,3,4,5]:\n",
    "        for n in [10,20,30,40,50]:\n",
    "#             print(depth, samples,n)\n",
    "            model = RandomForestClassifier(n_estimators=n,max_depth=depth,min_samples_leaf=samples,random_state=95)\n",
    "            model.fit(X_train,y_train)\n",
    "            print(n,depth,samples,model.score(X_test,y_test))"
   ]
  },
  {
   "cell_type": "code",
   "execution_count": 8,
   "id": "f7216911",
   "metadata": {},
   "outputs": [
    {
     "data": {
      "text/plain": [
       "RandomForestClassifier(max_depth=2, min_samples_leaf=3, n_estimators=10,\n",
       "                       random_state=95)"
      ]
     },
     "execution_count": 8,
     "metadata": {},
     "output_type": "execute_result"
    }
   ],
   "source": [
    "final_model = RandomForestClassifier(n_estimators=10,max_depth=2,min_samples_leaf=3,random_state=95)\n",
    "final_model.fit(X_train,y_train)"
   ]
  },
  {
   "cell_type": "code",
   "execution_count": 9,
   "id": "cced4414",
   "metadata": {},
   "outputs": [
    {
     "name": "stdout",
     "output_type": "stream",
     "text": [
      "Enter Your Age:3\n",
      "Enter Your Salary:3\n",
      "Not Purchased\n"
     ]
    }
   ],
   "source": [
    "# To accept input from user.... and predict wether he/she will purchase the product?\n",
    "age = int(input('Enter Your Age:'))\n",
    "sal = int(input('Enter Your Salary:'))\n",
    "yp = final_model.predict([[age,sal]])\n",
    "if yp[0]==0:\n",
    "    print('Not Purchased')\n",
    "else:\n",
    "    print('Purchased')"
   ]
  },
  {
   "cell_type": "markdown",
   "id": "0bd0bea1",
   "metadata": {},
   "source": [
    "# Hyperparameter Tuning"
   ]
  },
  {
   "cell_type": "code",
   "execution_count": 10,
   "id": "7ca659f2",
   "metadata": {},
   "outputs": [],
   "source": [
    "from sklearn.model_selection import GridSearchCV, RandomizedSearchCV\n",
    "from sklearn.metrics import accuracy_score"
   ]
  },
  {
   "cell_type": "code",
   "execution_count": 14,
   "id": "ed0685f7",
   "metadata": {},
   "outputs": [
    {
     "name": "stdout",
     "output_type": "stream",
     "text": [
      "Fitting 5 folds for each of 60 candidates, totalling 300 fits\n",
      "[CV 1/5] END max_depth=2, min_samples_leaf=2, n_estimators=10; total time=   0.0s\n",
      "[CV 2/5] END max_depth=2, min_samples_leaf=2, n_estimators=10; total time=   0.0s\n",
      "[CV 3/5] END max_depth=2, min_samples_leaf=2, n_estimators=10; total time=   0.0s\n",
      "[CV 4/5] END max_depth=2, min_samples_leaf=2, n_estimators=10; total time=   0.0s\n",
      "[CV 5/5] END max_depth=2, min_samples_leaf=2, n_estimators=10; total time=   0.0s\n",
      "[CV 1/5] END max_depth=2, min_samples_leaf=2, n_estimators=20; total time=   0.0s\n",
      "[CV 2/5] END max_depth=2, min_samples_leaf=2, n_estimators=20; total time=   0.0s\n",
      "[CV 3/5] END max_depth=2, min_samples_leaf=2, n_estimators=20; total time=   0.0s\n",
      "[CV 4/5] END max_depth=2, min_samples_leaf=2, n_estimators=20; total time=   0.0s\n",
      "[CV 5/5] END max_depth=2, min_samples_leaf=2, n_estimators=20; total time=   0.0s\n",
      "[CV 1/5] END max_depth=2, min_samples_leaf=2, n_estimators=30; total time=   0.0s\n",
      "[CV 2/5] END max_depth=2, min_samples_leaf=2, n_estimators=30; total time=   0.0s\n",
      "[CV 3/5] END max_depth=2, min_samples_leaf=2, n_estimators=30; total time=   0.0s\n",
      "[CV 4/5] END max_depth=2, min_samples_leaf=2, n_estimators=30; total time=   0.0s\n",
      "[CV 5/5] END max_depth=2, min_samples_leaf=2, n_estimators=30; total time=   0.0s\n",
      "[CV 1/5] END max_depth=2, min_samples_leaf=2, n_estimators=40; total time=   0.0s\n",
      "[CV 2/5] END max_depth=2, min_samples_leaf=2, n_estimators=40; total time=   0.0s\n",
      "[CV 3/5] END max_depth=2, min_samples_leaf=2, n_estimators=40; total time=   0.0s\n",
      "[CV 4/5] END max_depth=2, min_samples_leaf=2, n_estimators=40; total time=   0.0s\n",
      "[CV 5/5] END max_depth=2, min_samples_leaf=2, n_estimators=40; total time=   0.0s\n",
      "[CV 1/5] END max_depth=2, min_samples_leaf=2, n_estimators=50; total time=   0.0s\n",
      "[CV 2/5] END max_depth=2, min_samples_leaf=2, n_estimators=50; total time=   0.0s\n",
      "[CV 3/5] END max_depth=2, min_samples_leaf=2, n_estimators=50; total time=   0.0s\n",
      "[CV 4/5] END max_depth=2, min_samples_leaf=2, n_estimators=50; total time=   0.0s\n",
      "[CV 5/5] END max_depth=2, min_samples_leaf=2, n_estimators=50; total time=   0.0s\n",
      "[CV 1/5] END max_depth=2, min_samples_leaf=3, n_estimators=10; total time=   0.0s\n",
      "[CV 2/5] END max_depth=2, min_samples_leaf=3, n_estimators=10; total time=   0.0s\n",
      "[CV 3/5] END max_depth=2, min_samples_leaf=3, n_estimators=10; total time=   0.0s\n",
      "[CV 4/5] END max_depth=2, min_samples_leaf=3, n_estimators=10; total time=   0.0s\n",
      "[CV 5/5] END max_depth=2, min_samples_leaf=3, n_estimators=10; total time=   0.0s\n",
      "[CV 1/5] END max_depth=2, min_samples_leaf=3, n_estimators=20; total time=   0.0s\n",
      "[CV 2/5] END max_depth=2, min_samples_leaf=3, n_estimators=20; total time=   0.0s\n",
      "[CV 3/5] END max_depth=2, min_samples_leaf=3, n_estimators=20; total time=   0.0s\n",
      "[CV 4/5] END max_depth=2, min_samples_leaf=3, n_estimators=20; total time=   0.0s\n",
      "[CV 5/5] END max_depth=2, min_samples_leaf=3, n_estimators=20; total time=   0.0s\n",
      "[CV 1/5] END max_depth=2, min_samples_leaf=3, n_estimators=30; total time=   0.0s\n",
      "[CV 2/5] END max_depth=2, min_samples_leaf=3, n_estimators=30; total time=   0.0s\n",
      "[CV 3/5] END max_depth=2, min_samples_leaf=3, n_estimators=30; total time=   0.0s\n",
      "[CV 4/5] END max_depth=2, min_samples_leaf=3, n_estimators=30; total time=   0.0s\n",
      "[CV 5/5] END max_depth=2, min_samples_leaf=3, n_estimators=30; total time=   0.0s\n",
      "[CV 1/5] END max_depth=2, min_samples_leaf=3, n_estimators=40; total time=   0.0s\n",
      "[CV 2/5] END max_depth=2, min_samples_leaf=3, n_estimators=40; total time=   0.0s\n",
      "[CV 3/5] END max_depth=2, min_samples_leaf=3, n_estimators=40; total time=   0.0s\n",
      "[CV 4/5] END max_depth=2, min_samples_leaf=3, n_estimators=40; total time=   0.0s\n",
      "[CV 5/5] END max_depth=2, min_samples_leaf=3, n_estimators=40; total time=   0.0s\n",
      "[CV 1/5] END max_depth=2, min_samples_leaf=3, n_estimators=50; total time=   0.0s\n",
      "[CV 2/5] END max_depth=2, min_samples_leaf=3, n_estimators=50; total time=   0.0s\n",
      "[CV 3/5] END max_depth=2, min_samples_leaf=3, n_estimators=50; total time=   0.0s\n",
      "[CV 4/5] END max_depth=2, min_samples_leaf=3, n_estimators=50; total time=   0.0s\n",
      "[CV 5/5] END max_depth=2, min_samples_leaf=3, n_estimators=50; total time=   0.0s\n",
      "[CV 1/5] END max_depth=2, min_samples_leaf=4, n_estimators=10; total time=   0.0s\n",
      "[CV 2/5] END max_depth=2, min_samples_leaf=4, n_estimators=10; total time=   0.0s\n",
      "[CV 3/5] END max_depth=2, min_samples_leaf=4, n_estimators=10; total time=   0.0s\n",
      "[CV 4/5] END max_depth=2, min_samples_leaf=4, n_estimators=10; total time=   0.0s\n",
      "[CV 5/5] END max_depth=2, min_samples_leaf=4, n_estimators=10; total time=   0.0s\n",
      "[CV 1/5] END max_depth=2, min_samples_leaf=4, n_estimators=20; total time=   0.0s\n",
      "[CV 2/5] END max_depth=2, min_samples_leaf=4, n_estimators=20; total time=   0.0s\n",
      "[CV 3/5] END max_depth=2, min_samples_leaf=4, n_estimators=20; total time=   0.0s\n",
      "[CV 4/5] END max_depth=2, min_samples_leaf=4, n_estimators=20; total time=   0.0s\n",
      "[CV 5/5] END max_depth=2, min_samples_leaf=4, n_estimators=20; total time=   0.0s\n",
      "[CV 1/5] END max_depth=2, min_samples_leaf=4, n_estimators=30; total time=   0.0s\n",
      "[CV 2/5] END max_depth=2, min_samples_leaf=4, n_estimators=30; total time=   0.0s\n",
      "[CV 3/5] END max_depth=2, min_samples_leaf=4, n_estimators=30; total time=   0.0s\n",
      "[CV 4/5] END max_depth=2, min_samples_leaf=4, n_estimators=30; total time=   0.0s\n",
      "[CV 5/5] END max_depth=2, min_samples_leaf=4, n_estimators=30; total time=   0.0s\n",
      "[CV 1/5] END max_depth=2, min_samples_leaf=4, n_estimators=40; total time=   0.0s\n",
      "[CV 2/5] END max_depth=2, min_samples_leaf=4, n_estimators=40; total time=   0.0s\n",
      "[CV 3/5] END max_depth=2, min_samples_leaf=4, n_estimators=40; total time=   0.0s\n",
      "[CV 4/5] END max_depth=2, min_samples_leaf=4, n_estimators=40; total time=   0.0s\n",
      "[CV 5/5] END max_depth=2, min_samples_leaf=4, n_estimators=40; total time=   0.0s\n",
      "[CV 1/5] END max_depth=2, min_samples_leaf=4, n_estimators=50; total time=   0.0s\n",
      "[CV 2/5] END max_depth=2, min_samples_leaf=4, n_estimators=50; total time=   0.0s\n",
      "[CV 3/5] END max_depth=2, min_samples_leaf=4, n_estimators=50; total time=   0.0s\n",
      "[CV 4/5] END max_depth=2, min_samples_leaf=4, n_estimators=50; total time=   0.0s\n",
      "[CV 5/5] END max_depth=2, min_samples_leaf=4, n_estimators=50; total time=   0.0s\n",
      "[CV 1/5] END max_depth=2, min_samples_leaf=5, n_estimators=10; total time=   0.0s\n",
      "[CV 2/5] END max_depth=2, min_samples_leaf=5, n_estimators=10; total time=   0.0s\n",
      "[CV 3/5] END max_depth=2, min_samples_leaf=5, n_estimators=10; total time=   0.0s\n",
      "[CV 4/5] END max_depth=2, min_samples_leaf=5, n_estimators=10; total time=   0.0s\n",
      "[CV 5/5] END max_depth=2, min_samples_leaf=5, n_estimators=10; total time=   0.0s\n",
      "[CV 1/5] END max_depth=2, min_samples_leaf=5, n_estimators=20; total time=   0.0s\n",
      "[CV 2/5] END max_depth=2, min_samples_leaf=5, n_estimators=20; total time=   0.0s\n",
      "[CV 3/5] END max_depth=2, min_samples_leaf=5, n_estimators=20; total time=   0.0s\n",
      "[CV 4/5] END max_depth=2, min_samples_leaf=5, n_estimators=20; total time=   0.0s\n",
      "[CV 5/5] END max_depth=2, min_samples_leaf=5, n_estimators=20; total time=   0.0s\n",
      "[CV 1/5] END max_depth=2, min_samples_leaf=5, n_estimators=30; total time=   0.0s\n",
      "[CV 2/5] END max_depth=2, min_samples_leaf=5, n_estimators=30; total time=   0.0s\n",
      "[CV 3/5] END max_depth=2, min_samples_leaf=5, n_estimators=30; total time=   0.0s\n",
      "[CV 4/5] END max_depth=2, min_samples_leaf=5, n_estimators=30; total time=   0.0s\n",
      "[CV 5/5] END max_depth=2, min_samples_leaf=5, n_estimators=30; total time=   0.0s\n",
      "[CV 1/5] END max_depth=2, min_samples_leaf=5, n_estimators=40; total time=   0.0s\n",
      "[CV 2/5] END max_depth=2, min_samples_leaf=5, n_estimators=40; total time=   0.0s\n",
      "[CV 3/5] END max_depth=2, min_samples_leaf=5, n_estimators=40; total time=   0.0s\n",
      "[CV 4/5] END max_depth=2, min_samples_leaf=5, n_estimators=40; total time=   0.0s\n",
      "[CV 5/5] END max_depth=2, min_samples_leaf=5, n_estimators=40; total time=   0.0s\n",
      "[CV 1/5] END max_depth=2, min_samples_leaf=5, n_estimators=50; total time=   0.0s\n",
      "[CV 2/5] END max_depth=2, min_samples_leaf=5, n_estimators=50; total time=   0.0s\n",
      "[CV 3/5] END max_depth=2, min_samples_leaf=5, n_estimators=50; total time=   0.0s\n",
      "[CV 4/5] END max_depth=2, min_samples_leaf=5, n_estimators=50; total time=   0.0s\n",
      "[CV 5/5] END max_depth=2, min_samples_leaf=5, n_estimators=50; total time=   0.0s\n",
      "[CV 1/5] END max_depth=3, min_samples_leaf=2, n_estimators=10; total time=   0.0s\n",
      "[CV 2/5] END max_depth=3, min_samples_leaf=2, n_estimators=10; total time=   0.0s\n",
      "[CV 3/5] END max_depth=3, min_samples_leaf=2, n_estimators=10; total time=   0.0s\n",
      "[CV 4/5] END max_depth=3, min_samples_leaf=2, n_estimators=10; total time=   0.0s\n",
      "[CV 5/5] END max_depth=3, min_samples_leaf=2, n_estimators=10; total time=   0.0s\n",
      "[CV 1/5] END max_depth=3, min_samples_leaf=2, n_estimators=20; total time=   0.0s\n",
      "[CV 2/5] END max_depth=3, min_samples_leaf=2, n_estimators=20; total time=   0.0s\n"
     ]
    },
    {
     "name": "stdout",
     "output_type": "stream",
     "text": [
      "[CV 3/5] END max_depth=3, min_samples_leaf=2, n_estimators=20; total time=   0.0s\n",
      "[CV 4/5] END max_depth=3, min_samples_leaf=2, n_estimators=20; total time=   0.0s\n",
      "[CV 5/5] END max_depth=3, min_samples_leaf=2, n_estimators=20; total time=   0.0s\n",
      "[CV 1/5] END max_depth=3, min_samples_leaf=2, n_estimators=30; total time=   0.0s\n",
      "[CV 2/5] END max_depth=3, min_samples_leaf=2, n_estimators=30; total time=   0.0s\n",
      "[CV 3/5] END max_depth=3, min_samples_leaf=2, n_estimators=30; total time=   0.0s\n",
      "[CV 4/5] END max_depth=3, min_samples_leaf=2, n_estimators=30; total time=   0.0s\n",
      "[CV 5/5] END max_depth=3, min_samples_leaf=2, n_estimators=30; total time=   0.0s\n",
      "[CV 1/5] END max_depth=3, min_samples_leaf=2, n_estimators=40; total time=   0.0s\n",
      "[CV 2/5] END max_depth=3, min_samples_leaf=2, n_estimators=40; total time=   0.0s\n",
      "[CV 3/5] END max_depth=3, min_samples_leaf=2, n_estimators=40; total time=   0.0s\n",
      "[CV 4/5] END max_depth=3, min_samples_leaf=2, n_estimators=40; total time=   0.0s\n",
      "[CV 5/5] END max_depth=3, min_samples_leaf=2, n_estimators=40; total time=   0.0s\n",
      "[CV 1/5] END max_depth=3, min_samples_leaf=2, n_estimators=50; total time=   0.0s\n",
      "[CV 2/5] END max_depth=3, min_samples_leaf=2, n_estimators=50; total time=   0.0s\n",
      "[CV 3/5] END max_depth=3, min_samples_leaf=2, n_estimators=50; total time=   0.0s\n",
      "[CV 4/5] END max_depth=3, min_samples_leaf=2, n_estimators=50; total time=   0.0s\n",
      "[CV 5/5] END max_depth=3, min_samples_leaf=2, n_estimators=50; total time=   0.0s\n",
      "[CV 1/5] END max_depth=3, min_samples_leaf=3, n_estimators=10; total time=   0.0s\n",
      "[CV 2/5] END max_depth=3, min_samples_leaf=3, n_estimators=10; total time=   0.0s\n",
      "[CV 3/5] END max_depth=3, min_samples_leaf=3, n_estimators=10; total time=   0.0s\n",
      "[CV 4/5] END max_depth=3, min_samples_leaf=3, n_estimators=10; total time=   0.0s\n",
      "[CV 5/5] END max_depth=3, min_samples_leaf=3, n_estimators=10; total time=   0.0s\n",
      "[CV 1/5] END max_depth=3, min_samples_leaf=3, n_estimators=20; total time=   0.0s\n",
      "[CV 2/5] END max_depth=3, min_samples_leaf=3, n_estimators=20; total time=   0.0s\n",
      "[CV 3/5] END max_depth=3, min_samples_leaf=3, n_estimators=20; total time=   0.0s\n",
      "[CV 4/5] END max_depth=3, min_samples_leaf=3, n_estimators=20; total time=   0.0s\n",
      "[CV 5/5] END max_depth=3, min_samples_leaf=3, n_estimators=20; total time=   0.0s\n",
      "[CV 1/5] END max_depth=3, min_samples_leaf=3, n_estimators=30; total time=   0.0s\n",
      "[CV 2/5] END max_depth=3, min_samples_leaf=3, n_estimators=30; total time=   0.0s\n",
      "[CV 3/5] END max_depth=3, min_samples_leaf=3, n_estimators=30; total time=   0.0s\n",
      "[CV 4/5] END max_depth=3, min_samples_leaf=3, n_estimators=30; total time=   0.0s\n",
      "[CV 5/5] END max_depth=3, min_samples_leaf=3, n_estimators=30; total time=   0.0s\n",
      "[CV 1/5] END max_depth=3, min_samples_leaf=3, n_estimators=40; total time=   0.0s\n",
      "[CV 2/5] END max_depth=3, min_samples_leaf=3, n_estimators=40; total time=   0.0s\n",
      "[CV 3/5] END max_depth=3, min_samples_leaf=3, n_estimators=40; total time=   0.0s\n",
      "[CV 4/5] END max_depth=3, min_samples_leaf=3, n_estimators=40; total time=   0.0s\n",
      "[CV 5/5] END max_depth=3, min_samples_leaf=3, n_estimators=40; total time=   0.0s\n",
      "[CV 1/5] END max_depth=3, min_samples_leaf=3, n_estimators=50; total time=   0.0s\n",
      "[CV 2/5] END max_depth=3, min_samples_leaf=3, n_estimators=50; total time=   0.0s\n",
      "[CV 3/5] END max_depth=3, min_samples_leaf=3, n_estimators=50; total time=   0.0s\n",
      "[CV 4/5] END max_depth=3, min_samples_leaf=3, n_estimators=50; total time=   0.0s\n",
      "[CV 5/5] END max_depth=3, min_samples_leaf=3, n_estimators=50; total time=   0.0s\n",
      "[CV 1/5] END max_depth=3, min_samples_leaf=4, n_estimators=10; total time=   0.0s\n",
      "[CV 2/5] END max_depth=3, min_samples_leaf=4, n_estimators=10; total time=   0.0s\n",
      "[CV 3/5] END max_depth=3, min_samples_leaf=4, n_estimators=10; total time=   0.0s\n",
      "[CV 4/5] END max_depth=3, min_samples_leaf=4, n_estimators=10; total time=   0.0s\n",
      "[CV 5/5] END max_depth=3, min_samples_leaf=4, n_estimators=10; total time=   0.0s\n",
      "[CV 1/5] END max_depth=3, min_samples_leaf=4, n_estimators=20; total time=   0.0s\n",
      "[CV 2/5] END max_depth=3, min_samples_leaf=4, n_estimators=20; total time=   0.0s\n",
      "[CV 3/5] END max_depth=3, min_samples_leaf=4, n_estimators=20; total time=   0.0s\n",
      "[CV 4/5] END max_depth=3, min_samples_leaf=4, n_estimators=20; total time=   0.0s\n",
      "[CV 5/5] END max_depth=3, min_samples_leaf=4, n_estimators=20; total time=   0.0s\n",
      "[CV 1/5] END max_depth=3, min_samples_leaf=4, n_estimators=30; total time=   0.0s\n",
      "[CV 2/5] END max_depth=3, min_samples_leaf=4, n_estimators=30; total time=   0.0s\n",
      "[CV 3/5] END max_depth=3, min_samples_leaf=4, n_estimators=30; total time=   0.0s\n",
      "[CV 4/5] END max_depth=3, min_samples_leaf=4, n_estimators=30; total time=   0.0s\n",
      "[CV 5/5] END max_depth=3, min_samples_leaf=4, n_estimators=30; total time=   0.0s\n",
      "[CV 1/5] END max_depth=3, min_samples_leaf=4, n_estimators=40; total time=   0.0s\n",
      "[CV 2/5] END max_depth=3, min_samples_leaf=4, n_estimators=40; total time=   0.0s\n",
      "[CV 3/5] END max_depth=3, min_samples_leaf=4, n_estimators=40; total time=   0.0s\n",
      "[CV 4/5] END max_depth=3, min_samples_leaf=4, n_estimators=40; total time=   0.0s\n",
      "[CV 5/5] END max_depth=3, min_samples_leaf=4, n_estimators=40; total time=   0.0s\n",
      "[CV 1/5] END max_depth=3, min_samples_leaf=4, n_estimators=50; total time=   0.0s\n",
      "[CV 2/5] END max_depth=3, min_samples_leaf=4, n_estimators=50; total time=   0.0s\n",
      "[CV 3/5] END max_depth=3, min_samples_leaf=4, n_estimators=50; total time=   0.0s\n",
      "[CV 4/5] END max_depth=3, min_samples_leaf=4, n_estimators=50; total time=   0.0s\n",
      "[CV 5/5] END max_depth=3, min_samples_leaf=4, n_estimators=50; total time=   0.0s\n",
      "[CV 1/5] END max_depth=3, min_samples_leaf=5, n_estimators=10; total time=   0.0s\n",
      "[CV 2/5] END max_depth=3, min_samples_leaf=5, n_estimators=10; total time=   0.0s\n",
      "[CV 3/5] END max_depth=3, min_samples_leaf=5, n_estimators=10; total time=   0.0s\n",
      "[CV 4/5] END max_depth=3, min_samples_leaf=5, n_estimators=10; total time=   0.0s\n",
      "[CV 5/5] END max_depth=3, min_samples_leaf=5, n_estimators=10; total time=   0.0s\n",
      "[CV 1/5] END max_depth=3, min_samples_leaf=5, n_estimators=20; total time=   0.0s\n",
      "[CV 2/5] END max_depth=3, min_samples_leaf=5, n_estimators=20; total time=   0.0s\n",
      "[CV 3/5] END max_depth=3, min_samples_leaf=5, n_estimators=20; total time=   0.0s\n",
      "[CV 4/5] END max_depth=3, min_samples_leaf=5, n_estimators=20; total time=   0.0s\n",
      "[CV 5/5] END max_depth=3, min_samples_leaf=5, n_estimators=20; total time=   0.0s\n",
      "[CV 1/5] END max_depth=3, min_samples_leaf=5, n_estimators=30; total time=   0.0s\n",
      "[CV 2/5] END max_depth=3, min_samples_leaf=5, n_estimators=30; total time=   0.0s\n",
      "[CV 3/5] END max_depth=3, min_samples_leaf=5, n_estimators=30; total time=   0.0s\n",
      "[CV 4/5] END max_depth=3, min_samples_leaf=5, n_estimators=30; total time=   0.0s\n",
      "[CV 5/5] END max_depth=3, min_samples_leaf=5, n_estimators=30; total time=   0.0s\n",
      "[CV 1/5] END max_depth=3, min_samples_leaf=5, n_estimators=40; total time=   0.0s\n",
      "[CV 2/5] END max_depth=3, min_samples_leaf=5, n_estimators=40; total time=   0.0s\n",
      "[CV 3/5] END max_depth=3, min_samples_leaf=5, n_estimators=40; total time=   0.0s\n",
      "[CV 4/5] END max_depth=3, min_samples_leaf=5, n_estimators=40; total time=   0.0s\n",
      "[CV 5/5] END max_depth=3, min_samples_leaf=5, n_estimators=40; total time=   0.0s\n",
      "[CV 1/5] END max_depth=3, min_samples_leaf=5, n_estimators=50; total time=   0.0s\n",
      "[CV 2/5] END max_depth=3, min_samples_leaf=5, n_estimators=50; total time=   0.0s\n",
      "[CV 3/5] END max_depth=3, min_samples_leaf=5, n_estimators=50; total time=   0.0s\n",
      "[CV 4/5] END max_depth=3, min_samples_leaf=5, n_estimators=50; total time=   0.0s\n",
      "[CV 5/5] END max_depth=3, min_samples_leaf=5, n_estimators=50; total time=   0.0s\n",
      "[CV 1/5] END max_depth=4, min_samples_leaf=2, n_estimators=10; total time=   0.0s\n",
      "[CV 2/5] END max_depth=4, min_samples_leaf=2, n_estimators=10; total time=   0.0s\n",
      "[CV 3/5] END max_depth=4, min_samples_leaf=2, n_estimators=10; total time=   0.0s\n",
      "[CV 4/5] END max_depth=4, min_samples_leaf=2, n_estimators=10; total time=   0.0s\n",
      "[CV 5/5] END max_depth=4, min_samples_leaf=2, n_estimators=10; total time=   0.0s\n",
      "[CV 1/5] END max_depth=4, min_samples_leaf=2, n_estimators=20; total time=   0.0s\n",
      "[CV 2/5] END max_depth=4, min_samples_leaf=2, n_estimators=20; total time=   0.0s\n",
      "[CV 3/5] END max_depth=4, min_samples_leaf=2, n_estimators=20; total time=   0.0s\n",
      "[CV 4/5] END max_depth=4, min_samples_leaf=2, n_estimators=20; total time=   0.0s\n",
      "[CV 5/5] END max_depth=4, min_samples_leaf=2, n_estimators=20; total time=   0.0s\n"
     ]
    },
    {
     "name": "stdout",
     "output_type": "stream",
     "text": [
      "[CV 1/5] END max_depth=4, min_samples_leaf=2, n_estimators=30; total time=   0.0s\n",
      "[CV 2/5] END max_depth=4, min_samples_leaf=2, n_estimators=30; total time=   0.0s\n",
      "[CV 3/5] END max_depth=4, min_samples_leaf=2, n_estimators=30; total time=   0.0s\n",
      "[CV 4/5] END max_depth=4, min_samples_leaf=2, n_estimators=30; total time=   0.0s\n",
      "[CV 5/5] END max_depth=4, min_samples_leaf=2, n_estimators=30; total time=   0.0s\n",
      "[CV 1/5] END max_depth=4, min_samples_leaf=2, n_estimators=40; total time=   0.0s\n",
      "[CV 2/5] END max_depth=4, min_samples_leaf=2, n_estimators=40; total time=   0.0s\n",
      "[CV 3/5] END max_depth=4, min_samples_leaf=2, n_estimators=40; total time=   0.0s\n",
      "[CV 4/5] END max_depth=4, min_samples_leaf=2, n_estimators=40; total time=   0.0s\n",
      "[CV 5/5] END max_depth=4, min_samples_leaf=2, n_estimators=40; total time=   0.0s\n",
      "[CV 1/5] END max_depth=4, min_samples_leaf=2, n_estimators=50; total time=   0.0s\n",
      "[CV 2/5] END max_depth=4, min_samples_leaf=2, n_estimators=50; total time=   0.0s\n",
      "[CV 3/5] END max_depth=4, min_samples_leaf=2, n_estimators=50; total time=   0.0s\n",
      "[CV 4/5] END max_depth=4, min_samples_leaf=2, n_estimators=50; total time=   0.0s\n",
      "[CV 5/5] END max_depth=4, min_samples_leaf=2, n_estimators=50; total time=   0.0s\n",
      "[CV 1/5] END max_depth=4, min_samples_leaf=3, n_estimators=10; total time=   0.0s\n",
      "[CV 2/5] END max_depth=4, min_samples_leaf=3, n_estimators=10; total time=   0.0s\n",
      "[CV 3/5] END max_depth=4, min_samples_leaf=3, n_estimators=10; total time=   0.0s\n",
      "[CV 4/5] END max_depth=4, min_samples_leaf=3, n_estimators=10; total time=   0.0s\n",
      "[CV 5/5] END max_depth=4, min_samples_leaf=3, n_estimators=10; total time=   0.0s\n",
      "[CV 1/5] END max_depth=4, min_samples_leaf=3, n_estimators=20; total time=   0.0s\n",
      "[CV 2/5] END max_depth=4, min_samples_leaf=3, n_estimators=20; total time=   0.0s\n",
      "[CV 3/5] END max_depth=4, min_samples_leaf=3, n_estimators=20; total time=   0.0s\n",
      "[CV 4/5] END max_depth=4, min_samples_leaf=3, n_estimators=20; total time=   0.0s\n",
      "[CV 5/5] END max_depth=4, min_samples_leaf=3, n_estimators=20; total time=   0.0s\n",
      "[CV 1/5] END max_depth=4, min_samples_leaf=3, n_estimators=30; total time=   0.0s\n",
      "[CV 2/5] END max_depth=4, min_samples_leaf=3, n_estimators=30; total time=   0.0s\n",
      "[CV 3/5] END max_depth=4, min_samples_leaf=3, n_estimators=30; total time=   0.0s\n",
      "[CV 4/5] END max_depth=4, min_samples_leaf=3, n_estimators=30; total time=   0.0s\n",
      "[CV 5/5] END max_depth=4, min_samples_leaf=3, n_estimators=30; total time=   0.0s\n",
      "[CV 1/5] END max_depth=4, min_samples_leaf=3, n_estimators=40; total time=   0.0s\n",
      "[CV 2/5] END max_depth=4, min_samples_leaf=3, n_estimators=40; total time=   0.0s\n",
      "[CV 3/5] END max_depth=4, min_samples_leaf=3, n_estimators=40; total time=   0.0s\n",
      "[CV 4/5] END max_depth=4, min_samples_leaf=3, n_estimators=40; total time=   0.0s\n",
      "[CV 5/5] END max_depth=4, min_samples_leaf=3, n_estimators=40; total time=   0.0s\n",
      "[CV 1/5] END max_depth=4, min_samples_leaf=3, n_estimators=50; total time=   0.0s\n",
      "[CV 2/5] END max_depth=4, min_samples_leaf=3, n_estimators=50; total time=   0.0s\n",
      "[CV 3/5] END max_depth=4, min_samples_leaf=3, n_estimators=50; total time=   0.0s\n",
      "[CV 4/5] END max_depth=4, min_samples_leaf=3, n_estimators=50; total time=   0.0s\n",
      "[CV 5/5] END max_depth=4, min_samples_leaf=3, n_estimators=50; total time=   0.0s\n",
      "[CV 1/5] END max_depth=4, min_samples_leaf=4, n_estimators=10; total time=   0.0s\n",
      "[CV 2/5] END max_depth=4, min_samples_leaf=4, n_estimators=10; total time=   0.0s\n",
      "[CV 3/5] END max_depth=4, min_samples_leaf=4, n_estimators=10; total time=   0.0s\n",
      "[CV 4/5] END max_depth=4, min_samples_leaf=4, n_estimators=10; total time=   0.0s\n",
      "[CV 5/5] END max_depth=4, min_samples_leaf=4, n_estimators=10; total time=   0.0s\n",
      "[CV 1/5] END max_depth=4, min_samples_leaf=4, n_estimators=20; total time=   0.0s\n",
      "[CV 2/5] END max_depth=4, min_samples_leaf=4, n_estimators=20; total time=   0.0s\n",
      "[CV 3/5] END max_depth=4, min_samples_leaf=4, n_estimators=20; total time=   0.0s\n",
      "[CV 4/5] END max_depth=4, min_samples_leaf=4, n_estimators=20; total time=   0.0s\n",
      "[CV 5/5] END max_depth=4, min_samples_leaf=4, n_estimators=20; total time=   0.0s\n",
      "[CV 1/5] END max_depth=4, min_samples_leaf=4, n_estimators=30; total time=   0.0s\n",
      "[CV 2/5] END max_depth=4, min_samples_leaf=4, n_estimators=30; total time=   0.0s\n",
      "[CV 3/5] END max_depth=4, min_samples_leaf=4, n_estimators=30; total time=   0.0s\n",
      "[CV 4/5] END max_depth=4, min_samples_leaf=4, n_estimators=30; total time=   0.0s\n",
      "[CV 5/5] END max_depth=4, min_samples_leaf=4, n_estimators=30; total time=   0.0s\n",
      "[CV 1/5] END max_depth=4, min_samples_leaf=4, n_estimators=40; total time=   0.0s\n",
      "[CV 2/5] END max_depth=4, min_samples_leaf=4, n_estimators=40; total time=   0.0s\n",
      "[CV 3/5] END max_depth=4, min_samples_leaf=4, n_estimators=40; total time=   0.0s\n",
      "[CV 4/5] END max_depth=4, min_samples_leaf=4, n_estimators=40; total time=   0.0s\n",
      "[CV 5/5] END max_depth=4, min_samples_leaf=4, n_estimators=40; total time=   0.0s\n",
      "[CV 1/5] END max_depth=4, min_samples_leaf=4, n_estimators=50; total time=   0.0s\n",
      "[CV 2/5] END max_depth=4, min_samples_leaf=4, n_estimators=50; total time=   0.0s\n",
      "[CV 3/5] END max_depth=4, min_samples_leaf=4, n_estimators=50; total time=   0.0s\n",
      "[CV 4/5] END max_depth=4, min_samples_leaf=4, n_estimators=50; total time=   0.0s\n",
      "[CV 5/5] END max_depth=4, min_samples_leaf=4, n_estimators=50; total time=   0.0s\n",
      "[CV 1/5] END max_depth=4, min_samples_leaf=5, n_estimators=10; total time=   0.0s\n",
      "[CV 2/5] END max_depth=4, min_samples_leaf=5, n_estimators=10; total time=   0.0s\n",
      "[CV 3/5] END max_depth=4, min_samples_leaf=5, n_estimators=10; total time=   0.0s\n",
      "[CV 4/5] END max_depth=4, min_samples_leaf=5, n_estimators=10; total time=   0.0s\n",
      "[CV 5/5] END max_depth=4, min_samples_leaf=5, n_estimators=10; total time=   0.0s\n",
      "[CV 1/5] END max_depth=4, min_samples_leaf=5, n_estimators=20; total time=   0.0s\n",
      "[CV 2/5] END max_depth=4, min_samples_leaf=5, n_estimators=20; total time=   0.0s\n",
      "[CV 3/5] END max_depth=4, min_samples_leaf=5, n_estimators=20; total time=   0.0s\n",
      "[CV 4/5] END max_depth=4, min_samples_leaf=5, n_estimators=20; total time=   0.0s\n",
      "[CV 5/5] END max_depth=4, min_samples_leaf=5, n_estimators=20; total time=   0.0s\n",
      "[CV 1/5] END max_depth=4, min_samples_leaf=5, n_estimators=30; total time=   0.0s\n",
      "[CV 2/5] END max_depth=4, min_samples_leaf=5, n_estimators=30; total time=   0.0s\n",
      "[CV 3/5] END max_depth=4, min_samples_leaf=5, n_estimators=30; total time=   0.0s\n",
      "[CV 4/5] END max_depth=4, min_samples_leaf=5, n_estimators=30; total time=   0.0s\n",
      "[CV 5/5] END max_depth=4, min_samples_leaf=5, n_estimators=30; total time=   0.0s\n",
      "[CV 1/5] END max_depth=4, min_samples_leaf=5, n_estimators=40; total time=   0.0s\n",
      "[CV 2/5] END max_depth=4, min_samples_leaf=5, n_estimators=40; total time=   0.0s\n",
      "[CV 3/5] END max_depth=4, min_samples_leaf=5, n_estimators=40; total time=   0.0s\n",
      "[CV 4/5] END max_depth=4, min_samples_leaf=5, n_estimators=40; total time=   0.0s\n",
      "[CV 5/5] END max_depth=4, min_samples_leaf=5, n_estimators=40; total time=   0.0s\n",
      "[CV 1/5] END max_depth=4, min_samples_leaf=5, n_estimators=50; total time=   0.0s\n",
      "[CV 2/5] END max_depth=4, min_samples_leaf=5, n_estimators=50; total time=   0.0s\n",
      "[CV 3/5] END max_depth=4, min_samples_leaf=5, n_estimators=50; total time=   0.0s\n",
      "[CV 4/5] END max_depth=4, min_samples_leaf=5, n_estimators=50; total time=   0.0s\n",
      "[CV 5/5] END max_depth=4, min_samples_leaf=5, n_estimators=50; total time=   0.0s\n"
     ]
    },
    {
     "data": {
      "text/plain": [
       "GridSearchCV(cv=5, estimator=RandomForestClassifier(random_state=95),\n",
       "             param_grid={'max_depth': [2, 3, 4],\n",
       "                         'min_samples_leaf': [2, 3, 4, 5],\n",
       "                         'n_estimators': [10, 20, 30, 40, 50]},\n",
       "             scoring='accuracy', verbose=3)"
      ]
     },
     "execution_count": 14,
     "metadata": {},
     "output_type": "execute_result"
    }
   ],
   "source": [
    "params = {'n_estimators':[10,20,30,40,50], 'max_depth':[2,3,4],'min_samples_leaf':[2,3,4,5]}\n",
    "gridcv = GridSearchCV(RandomForestClassifier(random_state=95),\n",
    "                      param_grid=params,cv=5,verbose=3, scoring='accuracy')\n",
    "gridcv.fit(X,y)"
   ]
  },
  {
   "cell_type": "code",
   "execution_count": 15,
   "id": "055f4271",
   "metadata": {},
   "outputs": [
    {
     "data": {
      "text/plain": [
       "{'max_depth': 2, 'min_samples_leaf': 5, 'n_estimators': 40}"
      ]
     },
     "execution_count": 15,
     "metadata": {},
     "output_type": "execute_result"
    }
   ],
   "source": [
    "gridcv.best_params_"
   ]
  },
  {
   "cell_type": "code",
   "execution_count": 16,
   "id": "88fbaa6d",
   "metadata": {},
   "outputs": [
    {
     "data": {
      "text/plain": [
       "RandomForestClassifier(max_depth=2, min_samples_leaf=5, n_estimators=40,\n",
       "                       random_state=95)"
      ]
     },
     "execution_count": 16,
     "metadata": {},
     "output_type": "execute_result"
    }
   ],
   "source": [
    "gridcv.best_estimator_"
   ]
  },
  {
   "cell_type": "code",
   "execution_count": 17,
   "id": "ae64cc29",
   "metadata": {},
   "outputs": [
    {
     "data": {
      "text/plain": [
       "0.9125"
      ]
     },
     "execution_count": 17,
     "metadata": {},
     "output_type": "execute_result"
    }
   ],
   "source": [
    "gridcv.best_score_"
   ]
  },
  {
   "cell_type": "code",
   "execution_count": null,
   "id": "1bcfc655",
   "metadata": {},
   "outputs": [],
   "source": []
  }
 ],
 "metadata": {
  "kernelspec": {
   "display_name": "Python 3 (ipykernel)",
   "language": "python",
   "name": "python3"
  },
  "language_info": {
   "codemirror_mode": {
    "name": "ipython",
    "version": 3
   },
   "file_extension": ".py",
   "mimetype": "text/x-python",
   "name": "python",
   "nbconvert_exporter": "python",
   "pygments_lexer": "ipython3",
   "version": "3.9.13"
  }
 },
 "nbformat": 4,
 "nbformat_minor": 5
}
